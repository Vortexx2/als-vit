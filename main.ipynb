{
 "cells": [
  {
   "cell_type": "code",
   "execution_count": 2,
   "metadata": {},
   "outputs": [],
   "source": [
    "import os\n",
    "from zipfile import ZipFile, Path\n",
    "import csv\n",
    "import pandas as pd\n",
    "import numpy as np\n",
    "from PIL import Image\n",
    "# from skimage\n",
    "from contextlib import contextmanager\n",
    "\n",
    "\n",
    "import torch\n",
    "from torch import nn\n",
    "from torch.utils import data as tdata\n",
    "import webdataset as wds\n",
    "from torchvision import transforms as T"
   ]
  },
  {
   "cell_type": "code",
   "execution_count": 3,
   "metadata": {},
   "outputs": [],
   "source": [
    "# keep this at 0 on windows\n",
    "num_workers = 0"
   ]
  },
  {
   "cell_type": "code",
   "execution_count": 4,
   "metadata": {},
   "outputs": [
    {
     "name": "stdout",
     "output_type": "stream",
     "text": [
      "(['A', 'B', 'C', 'D', 'E', 'F', 'G', 'H', 'I', 'J', 'K', 'L', 'M', 'N', 'O', 'P', 'Q', 'R', 'S', 'T', 'U', 'V', 'W', 'X', 'Y', 'Z', 'del', 'nothing', 'space'], {'A': 0, 'B': 1, 'C': 2, 'D': 3, 'E': 4, 'F': 5, 'G': 6, 'H': 7, 'I': 8, 'J': 9, 'K': 10, 'L': 11, 'M': 12, 'N': 13, 'O': 14, 'P': 15, 'Q': 16, 'R': 17, 'S': 18, 'T': 19, 'U': 20, 'V': 21, 'W': 22, 'X': 23, 'Y': 24, 'Z': 25, 'del': 26, 'nothing': 27, 'space': 28}, {'asl_alphabet_train/asl_alphabet_train/A/A1.jpg': 0, 'asl_alphabet_train/asl_alphabet_train/A/A10.jpg': 0, 'asl_alphabet_train/asl_alphabet_train/A/A100.jpg': 0, 'asl_alphabet_train/asl_alphabet_train/A/A1000.jpg': 0, 'asl_alphabet_train/asl_alphabet_train/A/A1001.jpg': 0, 'asl_alphabet_train/asl_alphabet_train/A/A1002.jpg': 0, 'asl_alphabet_train/asl_alphabet_train/A/A1003.jpg': 0, 'asl_alphabet_train/asl_alphabet_train/A/A1004.jpg': 0, 'asl_alphabet_train/asl_alphabet_train/A/A1005.jpg': 0, 'asl_alphabet_train/asl_alphabet_train/A/A1006.jpg': 0, 'asl_alphabet_train/\n"
     ]
    }
   ],
   "source": [
    "# path of zip file\n",
    "zip_path = 'archive.zip'\n",
    "\n",
    "# path of training dir in the zip file\n",
    "train_path = 'asl_alphabet_train/asl_alphabet_train/'\n",
    "\n",
    "# file where (path, target will be stored)\n",
    "info_path = './info.csv'\n",
    "\n",
    "def get_dirs_and_count(zip_path, dir_path, info_path):\n",
    "  \"\"\"Is useful for getting directory list, counts etc\n",
    "\n",
    "  Args:\n",
    "      zip_path (str): _description_\n",
    "      dir_path (str): _description_\n",
    "\n",
    "  Returns:\n",
    "      `Tuple[List[str], Dict[str, int], Dict[str, int]]`: \\n\n",
    "      1. List of directories, 2. dictionary that maps those directories to the index in that list, 3. Dictionary that holds `(path, target)`\n",
    "  \"\"\"\n",
    "\n",
    "  with ZipFile(zip_path, 'r') as f:\n",
    "    path = Path(f, dir_path)\n",
    "\n",
    "    # stores a `Path` object for each directory in the mentioned `dir_path`\n",
    "    dirs = [x for x in path.iterdir() if x.is_dir()]\n",
    "\n",
    "    # stores each file's path to it's target class\n",
    "    path_to_class = {}\n",
    "\n",
    "    for i, d in enumerate(dirs):\n",
    "      # we need to iterate over the files in `d` and write `(file_path, target)`\n",
    "\n",
    "      for f in d.iterdir():\n",
    "        path_to_class[f\"{train_path}{d.name}/{f.name}\"] = i\n",
    "\n",
    "    # we convert each path like object to the actual directory name\n",
    "    dirs = [x.name for x in dirs]\n",
    "\n",
    "    # is like classes_to_idx\n",
    "    dir_to_i = {d: i for i, d in enumerate(dirs)}\n",
    "\n",
    "  # below code writes to an info csv in the format `path,target`\n",
    "  if not os.path.exists(info_path) and info_path is not None:\n",
    "    with open(info_path, 'w') as f:\n",
    "      w = csv.writer(f)\n",
    "      w.writerows(path_to_class.items())\n",
    "\n",
    "  return dirs, dir_to_i, path_to_class\n",
    "\n",
    "\n",
    "print(str(get_dirs_and_count(zip_path, train_path, info_path))[:1000])\n"
   ]
  },
  {
   "cell_type": "code",
   "execution_count": 5,
   "metadata": {},
   "outputs": [],
   "source": [
    "class _ImageZipDataset(tdata.Dataset):\n",
    "\n",
    "  def __init__(self, zip_file: ZipFile, samples, transform=None) -> None:\n",
    "    self.zip_file = zip_file\n",
    "    self.samples = samples\n",
    "\n",
    "    self.transform = transform\n",
    "\n",
    "\n",
    "  def __getitem__(self, index):\n",
    "    path, target = self.samples[index]\n",
    "\n",
    "    with self.zip_file.open(path) as f:\n",
    "      sample = Image.open(f).convert('RGB')\n",
    "\n",
    "    if self.transform is not None:\n",
    "      sample = self.transform(sample)\n",
    "\n",
    "    return sample, target\n",
    "\n",
    "  def __len__(self):\n",
    "    return len(self.samples)\n"
   ]
  },
  {
   "cell_type": "code",
   "execution_count": 6,
   "metadata": {},
   "outputs": [],
   "source": [
    "class ImageZipDatasetWrapper(tdata.Dataset):\n",
    "\n",
    "  def __init__(self, zip_path, dir_path, info_path, transform=None) -> None:\n",
    "\n",
    "    if not os.path.exists(zip_path):\n",
    "      raise FileNotFoundError(\"Provided zip file does not exist at path\")\n",
    "\n",
    "      \n",
    "    self.zip_path = zip_path\n",
    "    self.classes, self.classes_to_idx, _ = get_dirs_and_count(\n",
    "        zip_path, dir_path, info_path)\n",
    "\n",
    "    if not os.path.exists(info_path):\n",
    "      raise FileNotFoundError(\"CSV File does not exist\")\n",
    "      \n",
    "    self.samples = self.load_csv(info_path)\n",
    "    self.transform = transform\n",
    "\n",
    "  def load_csv(self, info_path):\n",
    "    return pd.read_csv(info_path).to_numpy()\n",
    "\n",
    "  @contextmanager\n",
    "  def dataset(self):\n",
    "    with ZipFile(self.zip_path, 'r') as z:\n",
    "      res = _ImageZipDataset(\n",
    "          zip_file=z,\n",
    "          samples=self.samples,\n",
    "          transform=self.transform\n",
    "      )\n",
    "      yield res\n",
    "\n",
    "  def __len__(self):\n",
    "    return len(self.samples)\n"
   ]
  },
  {
   "cell_type": "code",
   "execution_count": 7,
   "metadata": {},
   "outputs": [],
   "source": [
    "data_transforms = T.Compose([T.ToTensor()])\n",
    "train_dataset_wrapper = ImageZipDatasetWrapper(zip_path, train_path, info_path, transform=data_transforms)\n"
   ]
  },
  {
   "cell_type": "code",
   "execution_count": 11,
   "metadata": {},
   "outputs": [
    {
     "name": "stdout",
     "output_type": "stream",
     "text": [
      "torch.Size([2, 3, 200, 200])\n"
     ]
    }
   ],
   "source": [
    "with train_dataset_wrapper.dataset() as dataset:\n",
    "\n",
    "  dloader = tdata.DataLoader(dataset, 2, True, num_workers=num_workers)\n",
    "\n",
    "  for x, y in dloader:\n",
    "    print(x.shape)\n",
    "    break\n",
    "\n"
   ]
  },
  {
   "cell_type": "code",
   "execution_count": null,
   "metadata": {},
   "outputs": [],
   "source": []
  },
  {
   "cell_type": "code",
   "execution_count": null,
   "metadata": {},
   "outputs": [],
   "source": []
  },
  {
   "cell_type": "code",
   "execution_count": null,
   "metadata": {},
   "outputs": [],
   "source": []
  },
  {
   "cell_type": "markdown",
   "metadata": {},
   "source": []
  }
 ],
 "metadata": {
  "kernelspec": {
   "display_name": "fastapi-ml",
   "language": "python",
   "name": "python3"
  },
  "language_info": {
   "codemirror_mode": {
    "name": "ipython",
    "version": 3
   },
   "file_extension": ".py",
   "mimetype": "text/x-python",
   "name": "python",
   "nbconvert_exporter": "python",
   "pygments_lexer": "ipython3",
   "version": "3.9.16"
  },
  "orig_nbformat": 4,
  "vscode": {
   "interpreter": {
    "hash": "a72f2fb76a61cd37ad6891cc8d4df39cb21bbe70362a60424286c2696b35476d"
   }
  }
 },
 "nbformat": 4,
 "nbformat_minor": 2
}
